{
 "cells": [
  {
   "cell_type": "markdown",
   "metadata": {},
   "source": [
    "# INTRODUCTION"
   ]
  },
  {
   "cell_type": "markdown",
   "metadata": {},
   "source": [
    "## 1.1 Background"
   ]
  },
  {
   "cell_type": "markdown",
   "metadata": {},
   "source": [
    "I am a data scientist living in Mumbai, India. I was recently offered a job in New York, United States. Currently, I live in a 3bhk apartment alone. However, if I were to move I would like to stay with a roomate. I live a walking distance from my work building. The neighbourhood I live in is calm however there is a lot of construction so I would prefer to live in a quiet neighbourhood. Apartments in New York can be very expensive so I would like one that fits my "
   ]
  },
  {
   "cell_type": "markdown",
   "metadata": {},
   "source": [
    "## Problem"
   ]
  },
  {
   "cell_type": "markdown",
   "metadata": {},
   "source": [
    "The problem to be resolved is being able to find a shared rental apartment in Manhattan, New York that checks all my requirements. I will find an apartment that is : \n",
    "\n",
    "* Shared (with a roomate)\n",
    "* Rent is under US$500/month\n",
    "* In 1km radius of the work bulding"
   ]
  },
  {
   "cell_type": "markdown",
   "metadata": {},
   "source": [
    "# Data section"
   ]
  },
  {
   "cell_type": "markdown",
   "metadata": {},
   "source": []
  }
 ],
 "metadata": {
  "kernelspec": {
   "display_name": "Python",
   "language": "python",
   "name": "conda-env-python-py"
  },
  "language_info": {
   "codemirror_mode": {
    "name": "ipython",
    "version": 3
   },
   "file_extension": ".py",
   "mimetype": "text/x-python",
   "name": "python",
   "nbconvert_exporter": "python",
   "pygments_lexer": "ipython3",
   "version": "3.6.12"
  }
 },
 "nbformat": 4,
 "nbformat_minor": 4
}
